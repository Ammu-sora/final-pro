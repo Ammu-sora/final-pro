{
  "cells": [
    {
      "cell_type": "markdown",
      "metadata": {
        "id": "lyd3OYq7ynYb"
      },
      "source": [
        "Importing the Dependencies"
      ]
    },
    {
      "cell_type": "code",
      "execution_count": null,
      "metadata": {
        "id": "ATn4EI0IxAAf"
      },
      "outputs": [],
      "source": [
        "import numpy as np\n",
        "import pandas as pd\n",
        "from sklearn.preprocessing import StandardScaler\n",
        "from sklearn.model_selection import train_test_split\n",
        "from sklearn import svm\n",
        "from sklearn.metrics import accuracy_score"
      ]
    },
    {
      "cell_type": "markdown",
      "metadata": {
        "id": "4jTJYv4FzHJ2"
      },
      "source": [
        "Data Collection & Analysis"
      ]
    },
    {
      "cell_type": "code",
      "execution_count": null,
      "metadata": {
        "id": "L5kvoNPLy76L"
      },
      "outputs": [],
      "source": [
        "# Loading Dataset\n",
        "diabetes_dataset = pd.read_csv('/content/diabetes.csv')"
      ]
    },
    {
      "cell_type": "code",
      "execution_count": null,
      "metadata": {
        "colab": {
          "base_uri": "https://localhost:8080/",
          "height": 206
        },
        "id": "O1zGpft_15CX",
        "outputId": "84df19d7-6dfe-4e17-e4e3-2875e9291215"
      },
      "outputs": [],
      "source": [
        "diabetes_dataset.head()"
      ]
    },
    {
      "cell_type": "code",
      "execution_count": null,
      "metadata": {
        "colab": {
          "base_uri": "https://localhost:8080/"
        },
        "id": "fZ_H3vNY2OhK",
        "outputId": "30e9a3e1-cbd0-4642-dfdf-0d2e0d5255a8"
      },
      "outputs": [],
      "source": [
        "diabetes_dataset.shape"
      ]
    },
    {
      "cell_type": "code",
      "execution_count": null,
      "metadata": {
        "colab": {
          "base_uri": "https://localhost:8080/",
          "height": 300
        },
        "id": "6_HR5S5321vF",
        "outputId": "c3e5213a-7026-462d-fec3-4fdf91206a4e"
      },
      "outputs": [],
      "source": [
        "diabetes_dataset.describe()"
      ]
    },
    {
      "cell_type": "code",
      "execution_count": null,
      "metadata": {
        "colab": {
          "base_uri": "https://localhost:8080/",
          "height": 178
        },
        "id": "iVmpRKq63J8c",
        "outputId": "13b78ff3-1231-4867-9aca-c2db60df0731"
      },
      "outputs": [],
      "source": [
        "diabetes_dataset['Outcome'].value_counts()"
      ]
    },
    {
      "cell_type": "markdown",
      "metadata": {
        "id": "IkerC8Zk3w34"
      },
      "source": [
        "0 --> Non-Diabetic\n",
        "1 --> Diabetic"
      ]
    },
    {
      "cell_type": "code",
      "execution_count": null,
      "metadata": {
        "colab": {
          "base_uri": "https://localhost:8080/",
          "height": 143
        },
        "id": "n-PHUdXV3f9E",
        "outputId": "dbde93f3-3e9c-431f-b2ca-bdec803f952d"
      },
      "outputs": [],
      "source": [
        "diabetes_dataset.groupby('Outcome').mean()"
      ]
    },
    {
      "cell_type": "code",
      "execution_count": null,
      "metadata": {
        "id": "x5D0wrh039HE"
      },
      "outputs": [],
      "source": [
        "# Separting the data and labels\n",
        "X = diabetes_dataset.drop(columns = 'Outcome', axis=1)\n",
        "Y = diabetes_dataset['Outcome']"
      ]
    },
    {
      "cell_type": "code",
      "execution_count": null,
      "metadata": {
        "colab": {
          "base_uri": "https://localhost:8080/"
        },
        "id": "8_4DWsoG4aLJ",
        "outputId": "62488710-60a9-45e9-9a7c-39f9532f7505"
      },
      "outputs": [],
      "source": [
        "print(X)"
      ]
    },
    {
      "cell_type": "code",
      "execution_count": null,
      "metadata": {
        "colab": {
          "base_uri": "https://localhost:8080/"
        },
        "id": "vj3kPAZj4uCs",
        "outputId": "aa86dd4d-6239-4d51-82f0-0df678d5a42b"
      },
      "outputs": [],
      "source": [
        "print(Y)"
      ]
    },
    {
      "cell_type": "markdown",
      "metadata": {
        "id": "EcJmo1l4463H"
      },
      "source": [
        "Data Standardization"
      ]
    },
    {
      "cell_type": "code",
      "execution_count": null,
      "metadata": {
        "id": "9_2N4wKz44sz"
      },
      "outputs": [],
      "source": [
        "scaler=StandardScaler()"
      ]
    },
    {
      "cell_type": "code",
      "execution_count": null,
      "metadata": {
        "colab": {
          "base_uri": "https://localhost:8080/",
          "height": 80
        },
        "id": "5Z0MC3Tb5Olt",
        "outputId": "0398159d-7d13-4b09-a00e-97328e53ca89"
      },
      "outputs": [],
      "source": [
        "scaler.fit(X)"
      ]
    },
    {
      "cell_type": "code",
      "execution_count": null,
      "metadata": {
        "id": "Vz4NROrk5US3"
      },
      "outputs": [],
      "source": [
        "standardized_data=scaler.transform(X)"
      ]
    },
    {
      "cell_type": "code",
      "execution_count": null,
      "metadata": {
        "colab": {
          "base_uri": "https://localhost:8080/"
        },
        "id": "JaPwTKLK5kEF",
        "outputId": "6c75cbc9-101c-410f-ee30-a05ab44282eb"
      },
      "outputs": [],
      "source": [
        "print(standardized_data)"
      ]
    },
    {
      "cell_type": "code",
      "execution_count": null,
      "metadata": {
        "id": "uH3LhIMU56ug"
      },
      "outputs": [],
      "source": [
        "X=standardized_data\n",
        "Y=diabetes_dataset['Outcome']"
      ]
    },
    {
      "cell_type": "code",
      "execution_count": null,
      "metadata": {
        "colab": {
          "base_uri": "https://localhost:8080/"
        },
        "id": "eIRP4nii6DwR",
        "outputId": "3bfd37c0-2681-4e38-8e6c-ff2cef5d0483"
      },
      "outputs": [],
      "source": [
        "print(X)\n",
        "print(Y)"
      ]
    },
    {
      "cell_type": "markdown",
      "metadata": {
        "id": "jQzeq0pt6SIN"
      },
      "source": [
        "Train Test Split"
      ]
    },
    {
      "cell_type": "code",
      "execution_count": null,
      "metadata": {
        "id": "LU_Z_dQ96PeZ"
      },
      "outputs": [],
      "source": [
        "X_train,X_test,Y_train,Y_test=train_test_split(X,Y,test_size=0.2,stratify=Y,random_state=2)"
      ]
    },
    {
      "cell_type": "code",
      "execution_count": null,
      "metadata": {
        "colab": {
          "base_uri": "https://localhost:8080/"
        },
        "id": "j1_WeTEu7maA",
        "outputId": "de5e3dc6-aea4-4ecb-baa9-09a11270cb2f"
      },
      "outputs": [],
      "source": [
        "print(X.shape,X_train.shape,X_test.shape)"
      ]
    },
    {
      "cell_type": "markdown",
      "metadata": {
        "id": "ACulZSTZ77qJ"
      },
      "source": [
        "Training the Model"
      ]
    },
    {
      "cell_type": "code",
      "execution_count": null,
      "metadata": {
        "id": "EUsNAGdI7011"
      },
      "outputs": [],
      "source": [
        "classifier=svm.SVC(kernel='linear')"
      ]
    },
    {
      "cell_type": "code",
      "execution_count": null,
      "metadata": {
        "colab": {
          "base_uri": "https://localhost:8080/",
          "height": 80
        },
        "id": "09o5p6cI8FHy",
        "outputId": "d9fd5027-db13-4719-dd50-61d6f5e64a95"
      },
      "outputs": [],
      "source": [
        "# training the support vector machine classifier'\n",
        "classifier.fit(X_train,Y_train)"
      ]
    },
    {
      "cell_type": "markdown",
      "metadata": {
        "id": "WVbSqnNI8a-0"
      },
      "source": [
        "Model Evaluation"
      ]
    },
    {
      "cell_type": "markdown",
      "metadata": {
        "id": "4yXgDIDV8iMi"
      },
      "source": [
        "Accuracy Score"
      ]
    },
    {
      "cell_type": "code",
      "execution_count": null,
      "metadata": {
        "id": "nHy7RMfn8TJp"
      },
      "outputs": [],
      "source": [
        "# accuracy score on the training data\n",
        "X_train_prediction=classifier.predict(X_train)\n",
        "training_data_accuracy=accuracy_score(X_train_prediction,Y_train)"
      ]
    },
    {
      "cell_type": "code",
      "execution_count": null,
      "metadata": {
        "colab": {
          "base_uri": "https://localhost:8080/"
        },
        "id": "O-TrOmWB8_U3",
        "outputId": "5a5c481b-1e4e-4f1d-899d-4e010747bb9a"
      },
      "outputs": [],
      "source": [
        "print('Accuracy Score of the Training Data:-',training_data_accuracy)"
      ]
    },
    {
      "cell_type": "code",
      "execution_count": null,
      "metadata": {
        "id": "_SWh4Wlt9bgz"
      },
      "outputs": [],
      "source": [
        "X_test_prediction=classifier.predict(X_test)\n",
        "test_data_accuracy=accuracy_score(X_test_prediction,Y_test)"
      ]
    },
    {
      "cell_type": "code",
      "execution_count": null,
      "metadata": {
        "colab": {
          "base_uri": "https://localhost:8080/"
        },
        "id": "AKjptQMs90hc",
        "outputId": "0c40a986-5e74-47b6-8d36-31efe22e8a0b"
      },
      "outputs": [],
      "source": [
        "print('Accuracy Score of the Training Data:-',test_data_accuracy)\n"
      ]
    },
    {
      "cell_type": "markdown",
      "metadata": {
        "id": "Bnlr5IKN-Sbf"
      },
      "source": [
        "Making a Predictive System"
      ]
    },
    {
      "cell_type": "code",
      "execution_count": null,
      "metadata": {
        "colab": {
          "base_uri": "https://localhost:8080/"
        },
        "id": "a3zl0xdh96QZ",
        "outputId": "625861eb-8152-4420-ca73-e38c18ec6330"
      },
      "outputs": [],
      "source": [
        "input_data=(5,166,72,19,175,25.8,0.587,51)\n",
        "# Convert input data into numpy array\n",
        "input_data_as_numpy_array=np.asarray(input_data)\n",
        "# reshape the array as we are predicting for one instance\n",
        "input_data_reshaped=input_data_as_numpy_array.reshape(1,-1)\n",
        "# standardize the input data\n",
        "std_data=scaler.transform(input_data_reshaped)\n",
        "print(std_data)\n",
        "prediction=classifier.predict(std_data)\n",
        "print(prediction)\n",
        "\n",
        "if (prediction[0]==0):\n",
        "  print('The person is not diabetic')\n",
        "else:\n",
        "  print('The person is diabetic')"
      ]
    },
    {
      "cell_type": "markdown",
      "metadata": {},
      "source": [
        "Saving the Trained Model"
      ]
    },
    {
      "cell_type": "code",
      "execution_count": null,
      "metadata": {
        "id": "lllQmGKi_eJf"
      },
      "outputs": [],
      "source": [
        "import pickle"
      ]
    },
    {
      "cell_type": "code",
      "execution_count": null,
      "metadata": {},
      "outputs": [],
      "source": [
        "filename='diabetes_model.sav'\n",
        "pickle.dump(classifier,open(filename,'wb'))"
      ]
    },
    {
      "cell_type": "code",
      "execution_count": null,
      "metadata": {},
      "outputs": [],
      "source": [
        "# Loading the saved model\n",
        "loaded_model=pickle.load(open('diabetes_model.sav','rb'))"
      ]
    },
    {
      "cell_type": "code",
      "execution_count": null,
      "metadata": {},
      "outputs": [],
      "source": [
        "input_data = (5,166,72,19,175,25.8,0.587,51)\n",
        "\n",
        "# changing the input_data to numpy array\n",
        "input_data_as_numpy_array = np.asarray(input_data)\n",
        "\n",
        "# reshape the array as we are predicting for one instance\n",
        "input_data_reshaped = input_data_as_numpy_array.reshape(1,-1)\n",
        "\n",
        "prediction = loaded_model.predict(input_data_reshaped)\n",
        "print(prediction)\n",
        "\n",
        "if (prediction[0] == 0):\n",
        "  print('The person is not diabetic')\n",
        "else:\n",
        "  print('The person is diabetic')\n",
        "     "
      ]
    },
    {
      "cell_type": "code",
      "execution_count": null,
      "metadata": {},
      "outputs": [],
      "source": [
        "for column in X.columns:\n",
        "    print(column)"
      ]
    }
  ],
  "metadata": {
    "colab": {
      "provenance": []
    },
    "kernelspec": {
      "display_name": "env",
      "language": "python",
      "name": "python3"
    },
    "language_info": {
      "name": "python",
      "version": "3.12.9"
    }
  },
  "nbformat": 4,
  "nbformat_minor": 0
}
